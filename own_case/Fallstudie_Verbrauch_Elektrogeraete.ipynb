{
 "cells": [
  {
   "cell_type": "code",
   "execution_count": null,
   "id": "c0fe157b",
   "metadata": {},
   "outputs": [],
   "source": [
    "#####################################################################\n",
    "# Script Name\t : \"Fallstudie_Verbrauch_Elektogeraete.ipynb\"                                                                                         \n",
    "# Description\t : Dataset from swiss open data gov, in which we will explore the sales and consumption of electrical appliances in Switzerland\n",
    "# Args           : \n",
    "# Author       \t : Marc Kressig\n",
    "# Email          : marc.kressig@ost.ch\n",
    "# Date           : 21.10.2025\n",
    "#####################################################################"
   ]
  },
  {
   "cell_type": "markdown",
   "id": "1a116633",
   "metadata": {},
   "source": [
    "Für die Datenanalyse habe ich den Datensatz „ogd109_absatz_verbrauch_elektrogeraete“ aus dem Open Government Data (OGD) Portal der Schweiz ausgewählt. Der Datensatz enthält Informationen zum Absatz und Verbrauch von Elektrogeräten in der Schweiz und zeigt, wie sich diese Kennzahlne über verschiedene Jahre und Gerätekategorien hinweg entwickeln."
   ]
  },
  {
   "cell_type": "markdown",
   "id": "8c5b09f2",
   "metadata": {},
   "source": [
    "Für mich besonders interessant, sind die Einblicke in das Konsumverhalten, Nachhaltigkeit wie auch die technologischen Entwicklungen, die es über die Jahre hinweg gegeben hat."
   ]
  },
  {
   "cell_type": "markdown",
   "id": "15d1955d",
   "metadata": {},
   "source": []
  }
 ],
 "metadata": {
  "kernelspec": {
   "display_name": "Python 3",
   "language": "python",
   "name": "python3"
  },
  "language_info": {
   "codemirror_mode": {
    "name": "ipython",
    "version": 3
   },
   "file_extension": ".py",
   "mimetype": "text/x-python",
   "name": "python",
   "nbconvert_exporter": "python",
   "pygments_lexer": "ipython3",
   "version": "3.11.9"
  }
 },
 "nbformat": 4,
 "nbformat_minor": 5
}

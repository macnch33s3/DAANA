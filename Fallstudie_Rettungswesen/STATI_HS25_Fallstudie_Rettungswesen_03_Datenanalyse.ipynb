{
 "cells": [
  {
   "cell_type": "markdown",
   "id": "0",
   "metadata": {},
   "source": [
    "## **Optimierungspotenzial im Rettungswesen**"
   ]
  },
  {
   "cell_type": "code",
   "execution_count": null,
   "id": "1",
   "metadata": {},
   "outputs": [],
   "source": [
    "import pandas as pd\n",
    "import seaborn as sns\n",
    "\n",
    "pd.set_option('display.max_columns', 500)  # damit alle Spalten angezeigt werden"
   ]
  },
  {
   "cell_type": "markdown",
   "id": "2",
   "metadata": {},
   "source": [
    "**Datenfelder in missions.csv**\n",
    "- t_alarm_sec: Zeitpunkt der Alarmierung des Einsatzes\n",
    "- lat: Breitengrad des Einsatzes\n",
    "- lng: Längengrad des Einsatzes\n",
    "- dt_to_launch: Zeitintervall [sec] Alarmierung bis Ausrücken des Einsatzes [sec]\n",
    "- dt_to_poa: Zeitintervall [sec] Ausrücken bis Eintreffen Einsatzort des Einsatzes\n",
    "- dt_to_completion: Zeitintervall [sec] Eintreffen Einsatzort bis Ende Einsatz des Einsatzes\n",
    "- base: Stützpunkt-Nummer, ab dem der Einsatz bedient wurde\n",
    "- dist: Distanz zwischen Stützpunkt und Einsatzort [Luftlinie Koordinaten] \n",
    "\n",
    "**Datenfelder in bases.csv:**\n",
    "- nr: Stützpunkt-Nummer (1,2,3)\n",
    "- lat: Breitengrad des Stützpunktes\n",
    "- lng: Längengrad des Stützpunktes"
   ]
  },
  {
   "cell_type": "markdown",
   "id": "3",
   "metadata": {},
   "source": [
    "## **Auftrag zur gezielten Datenanalyse**"
   ]
  },
  {
   "cell_type": "markdown",
   "id": "4",
   "metadata": {},
   "source": [
    "d) (ca. 6h) Führen Sie eine statistische Datenanalyse der gelieferten Daten in Python durch und\n",
    "identifizieren Sie mögliche Ursachen für die tiefe Hilfsfristerreichung der Rettung SG. Formulieren\n",
    "Sie hierfür geeignete **Hypothesen** und begründen Sie diese anhand geeigneter Tabellen und/oder\n",
    "Grafiken. Verwenden Sie hierfür die im Unterricht behandelten Schlüsselbegriffe und\n",
    "\n",
    "**Auswertungsarten**:\n",
    "- Lagemasse\n",
    "- Streuungsmasse\n",
    "- Exploration von Verteilungen\n",
    "- Exploration kategorialer Daten\n",
    "- Korrelation\n",
    "- Exploration von zwei oder mehr Variablen\n",
    "\n",
    "**HINWEIS**: Um bei der Datenanalyse Zeit zu sparen, empfiehlt es sich zuerst einen raschen Überblick\n",
    "der Daten zu gewinnen. Achten Sie danach bei der Formulierung und Überprüfung von Hypothesen\n",
    "auf den Kontext (sachlich, räumlich, zeitlich)."
   ]
  },
  {
   "cell_type": "markdown",
   "id": "5",
   "metadata": {},
   "source": [
    "f) (ca. 45min) Bereiten Sie in ihren Gruppen eine kurze PowerPoint-Präsentation vor (Titelfolie + 5 Folien), welche ihre **drei wichtigsten, gefunden Ursachen** der tiefen Hilfsfristerreichung (Hypothese inkl. Tabelle/Grafik), sowie **zwei Vorschläge für Handlungsoptionen** enthalten.\n"
   ]
  },
  {
   "cell_type": "markdown",
   "id": "6",
   "metadata": {},
   "source": [
    "Teilaufgaben, die bei der Bearbeitung der Fragestellung helfen sollen:\n",
    "\n",
    "1. Was ist überhaupt 'gut'? Errechne die Hilfsfrist und analysiere sie. Interpretiere die Resultate.\n",
    "2. Was beeinflusst die Hilfsfristerreichung?\n",
    "3. Passen die Stützpunkte zu den Einsatzgebieten?\n",
    "4. Wo liegen die Einsätze, welche nicht innerhalb der Hilfsfrist erreicht werden?"
   ]
  },
  {
   "cell_type": "markdown",
   "id": "7",
   "metadata": {},
   "source": [
    "**Hypothesen**:\n",
    "- ...\n",
    "- ..."
   ]
  },
  {
   "cell_type": "code",
   "execution_count": null,
   "id": "8",
   "metadata": {},
   "outputs": [],
   "source": [
    "import pandas as pd\n",
    "import seaborn as sns\n",
    "\n",
    "pd.set_option('display.max_columns', 500)  # damit alle Spalten angezeigt werden"
   ]
  },
  {
   "cell_type": "code",
   "execution_count": null,
   "id": "9",
   "metadata": {},
   "outputs": [],
   "source": [
    "missions = pd.read_csv('Fallstudie/Daten/missions.csv')\n",
    "bases = pd.read_csv('Fallstudie/Daten/bases.csv')"
   ]
  },
  {
   "cell_type": "code",
   "execution_count": null,
   "id": "10",
   "metadata": {},
   "outputs": [],
   "source": []
  },
  {
   "cell_type": "code",
   "execution_count": null,
   "id": "11",
   "metadata": {},
   "outputs": [],
   "source": []
  }
 ],
 "metadata": {
  "kernelspec": {
   "display_name": "wing-statistik",
   "language": "python",
   "name": "python3"
  },
  "language_info": {
   "codemirror_mode": {
    "name": "ipython",
    "version": 3
   },
   "file_extension": ".py",
   "mimetype": "text/x-python",
   "name": "python",
   "nbconvert_exporter": "python",
   "pygments_lexer": "ipython3",
   "version": "3.12.11"
  }
 },
 "nbformat": 4,
 "nbformat_minor": 5
}

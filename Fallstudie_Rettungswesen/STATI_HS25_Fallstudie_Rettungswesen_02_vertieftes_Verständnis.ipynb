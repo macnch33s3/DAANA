{
 "cells": [
  {
   "cell_type": "markdown",
   "id": "0",
   "metadata": {},
   "source": [
    "## **Optimierungspotenzial im Rettungswesen**"
   ]
  },
  {
   "cell_type": "code",
   "execution_count": 68,
   "id": "1",
   "metadata": {},
   "outputs": [],
   "source": [
    "import pandas as pd\n",
    "import seaborn as sns\n",
    "\n",
    "pd.set_option('display.max_columns', 500)  # damit alle Spalten angezeigt werden"
   ]
  },
  {
   "cell_type": "markdown",
   "id": "2",
   "metadata": {},
   "source": [
    "**Datenfelder in missions.csv**\n",
    "- t_alarm_sec: Zeitpunkt der Alarmierung des Einsatzes\n",
    "- lat: Breitengrad des Einsatzes\n",
    "- lng: Längengrad des Einsatzes\n",
    "- dt_to_launch: Zeitintervall [sec] Alarmierung bis Ausrücken des Einsatzes [sec]\n",
    "- dt_to_poa: Zeitintervall [sec] Ausrücken bis Eintreffen Einsatzort des Einsatzes\n",
    "- dt_to_completion: Zeitintervall [sec] Eintreffen Einsatzort bis Ende Einsatz des Einsatzes\n",
    "- base: Stützpunkt-Nummer, ab dem der Einsatz bedient wurde\n",
    "- dist: Distanz zwischen Stützpunkt und Einsatzort [Luftlinie Koordinaten] \n",
    "\n",
    "**Datenfelder in bases.csv:**\n",
    "- nr: Stützpunkt-Nummer (1,2,3)\n",
    "- lat: Breitengrad des Stützpunktes\n",
    "- lng: Längengrad des Stützpunktes"
   ]
  },
  {
   "cell_type": "markdown",
   "id": "3",
   "metadata": {},
   "source": [
    "### **Vertieftes Verständnis der Daten**"
   ]
  },
  {
   "cell_type": "code",
   "execution_count": 69,
   "id": "4",
   "metadata": {},
   "outputs": [
    {
     "name": "stdout",
     "output_type": "stream",
     "text": [
      "                t_alarm_sec        lat        lng  dt_to_launch  \\\n",
      "0      2018-01-01T00:31:57Z  50.509220  10.683720            40   \n",
      "1      2018-01-01T01:33:29Z  50.515171  10.561964            60   \n",
      "2      2018-01-01T02:23:56Z  50.300076  10.925221           376   \n",
      "3      2018-01-01T03:07:32Z  50.367345  11.210582            70   \n",
      "4      2018-01-01T03:31:58Z  50.502782  10.592543           166   \n",
      "...                     ...        ...        ...           ...   \n",
      "18857  2018-12-30T21:47:50Z  50.508654  10.540869            94   \n",
      "18858  2018-12-30T21:48:01Z  50.368704  11.218502            93   \n",
      "18859  2018-12-30T22:00:20Z  50.425956  10.537357            39   \n",
      "18860  2018-12-30T22:11:55Z  50.460743  10.818922            75   \n",
      "18861  2018-12-30T23:31:00Z  50.510810  10.550634           138   \n",
      "\n",
      "       dt_to_completion  dt_to_poa  base      dist  \n",
      "0                  2779        417     1  0.066918  \n",
      "1                  3627       1062     1  0.188647  \n",
      "2                  1976        393     3  0.025221  \n",
      "3                  7040       1236     2  0.213099  \n",
      "4                 11178        837     1  0.157482  \n",
      "...                 ...        ...   ...       ...  \n",
      "18857              2412       1349     1  0.209310  \n",
      "18858              2996       1256     2  0.220732  \n",
      "18859              6087       2145     1  0.225166  \n",
      "18860              4320        458     1  0.079318  \n",
      "18861              3596       1092     1  0.199659  \n",
      "\n",
      "[18862 rows x 8 columns]\n"
     ]
    }
   ],
   "source": [
    "missions = pd.read_csv('C:\\\\Users\\\\marck\\\\Documents\\\\_OST\\\\DAANA\\\\DAANA\\\\Fallstudie_Rettungswesen\\\\missions.csv')\n",
    "print(missions)"
   ]
  },
  {
   "cell_type": "code",
   "execution_count": 70,
   "id": "5",
   "metadata": {},
   "outputs": [
    {
     "name": "stdout",
     "output_type": "stream",
     "text": [
      "Info:\n",
      "<class 'pandas.core.frame.DataFrame'>\n",
      "RangeIndex: 18862 entries, 0 to 18861\n",
      "Data columns (total 8 columns):\n",
      " #   Column            Non-Null Count  Dtype  \n",
      "---  ------            --------------  -----  \n",
      " 0   t_alarm_sec       18862 non-null  object \n",
      " 1   lat               18862 non-null  float64\n",
      " 2   lng               18862 non-null  float64\n",
      " 3   dt_to_launch      18862 non-null  int64  \n",
      " 4   dt_to_completion  18862 non-null  int64  \n",
      " 5   dt_to_poa         18862 non-null  int64  \n",
      " 6   base              18862 non-null  int64  \n",
      " 7   dist              18862 non-null  float64\n",
      "dtypes: float64(3), int64(4), object(1)\n",
      "memory usage: 1.2+ MB\n",
      "\n",
      "Erste 5 Zeilen:\n"
     ]
    },
    {
     "data": {
      "application/vnd.microsoft.datawrangler.viewer.v0+json": {
       "columns": [
        {
         "name": "index",
         "rawType": "int64",
         "type": "integer"
        },
        {
         "name": "t_alarm_sec",
         "rawType": "object",
         "type": "string"
        },
        {
         "name": "lat",
         "rawType": "float64",
         "type": "float"
        },
        {
         "name": "lng",
         "rawType": "float64",
         "type": "float"
        },
        {
         "name": "dt_to_launch",
         "rawType": "int64",
         "type": "integer"
        },
        {
         "name": "dt_to_completion",
         "rawType": "int64",
         "type": "integer"
        },
        {
         "name": "dt_to_poa",
         "rawType": "int64",
         "type": "integer"
        },
        {
         "name": "base",
         "rawType": "int64",
         "type": "integer"
        },
        {
         "name": "dist",
         "rawType": "float64",
         "type": "float"
        }
       ],
       "ref": "f948a8ce-9a77-4ab3-8cf6-298b22ff7461",
       "rows": [
        [
         "0",
         "2018-01-01T00:31:57Z",
         "50.50922",
         "10.68372",
         "40",
         "2779",
         "417",
         "1",
         "0.0669182097788027"
        ],
        [
         "1",
         "2018-01-01T01:33:29Z",
         "50.515171",
         "10.561964",
         "60",
         "3627",
         "1062",
         "1",
         "0.188647015711885"
        ],
        [
         "2",
         "2018-01-01T02:23:56Z",
         "50.300076",
         "10.925221",
         "376",
         "1976",
         "393",
         "3",
         "0.0252211145074916"
        ],
        [
         "3",
         "2018-01-01T03:07:32Z",
         "50.367345",
         "11.210582",
         "70",
         "7040",
         "1236",
         "2",
         "0.2130988684836221"
        ],
        [
         "4",
         "2018-01-01T03:31:58Z",
         "50.502782",
         "10.592543",
         "166",
         "11178",
         "837",
         "1",
         "0.1574815747095522"
        ]
       ],
       "shape": {
        "columns": 8,
        "rows": 5
       }
      },
      "text/html": [
       "<div>\n",
       "<style scoped>\n",
       "    .dataframe tbody tr th:only-of-type {\n",
       "        vertical-align: middle;\n",
       "    }\n",
       "\n",
       "    .dataframe tbody tr th {\n",
       "        vertical-align: top;\n",
       "    }\n",
       "\n",
       "    .dataframe thead th {\n",
       "        text-align: right;\n",
       "    }\n",
       "</style>\n",
       "<table border=\"1\" class=\"dataframe\">\n",
       "  <thead>\n",
       "    <tr style=\"text-align: right;\">\n",
       "      <th></th>\n",
       "      <th>t_alarm_sec</th>\n",
       "      <th>lat</th>\n",
       "      <th>lng</th>\n",
       "      <th>dt_to_launch</th>\n",
       "      <th>dt_to_completion</th>\n",
       "      <th>dt_to_poa</th>\n",
       "      <th>base</th>\n",
       "      <th>dist</th>\n",
       "    </tr>\n",
       "  </thead>\n",
       "  <tbody>\n",
       "    <tr>\n",
       "      <th>0</th>\n",
       "      <td>2018-01-01T00:31:57Z</td>\n",
       "      <td>50.509220</td>\n",
       "      <td>10.683720</td>\n",
       "      <td>40</td>\n",
       "      <td>2779</td>\n",
       "      <td>417</td>\n",
       "      <td>1</td>\n",
       "      <td>0.066918</td>\n",
       "    </tr>\n",
       "    <tr>\n",
       "      <th>1</th>\n",
       "      <td>2018-01-01T01:33:29Z</td>\n",
       "      <td>50.515171</td>\n",
       "      <td>10.561964</td>\n",
       "      <td>60</td>\n",
       "      <td>3627</td>\n",
       "      <td>1062</td>\n",
       "      <td>1</td>\n",
       "      <td>0.188647</td>\n",
       "    </tr>\n",
       "    <tr>\n",
       "      <th>2</th>\n",
       "      <td>2018-01-01T02:23:56Z</td>\n",
       "      <td>50.300076</td>\n",
       "      <td>10.925221</td>\n",
       "      <td>376</td>\n",
       "      <td>1976</td>\n",
       "      <td>393</td>\n",
       "      <td>3</td>\n",
       "      <td>0.025221</td>\n",
       "    </tr>\n",
       "    <tr>\n",
       "      <th>3</th>\n",
       "      <td>2018-01-01T03:07:32Z</td>\n",
       "      <td>50.367345</td>\n",
       "      <td>11.210582</td>\n",
       "      <td>70</td>\n",
       "      <td>7040</td>\n",
       "      <td>1236</td>\n",
       "      <td>2</td>\n",
       "      <td>0.213099</td>\n",
       "    </tr>\n",
       "    <tr>\n",
       "      <th>4</th>\n",
       "      <td>2018-01-01T03:31:58Z</td>\n",
       "      <td>50.502782</td>\n",
       "      <td>10.592543</td>\n",
       "      <td>166</td>\n",
       "      <td>11178</td>\n",
       "      <td>837</td>\n",
       "      <td>1</td>\n",
       "      <td>0.157482</td>\n",
       "    </tr>\n",
       "  </tbody>\n",
       "</table>\n",
       "</div>"
      ],
      "text/plain": [
       "            t_alarm_sec        lat        lng  dt_to_launch  dt_to_completion  \\\n",
       "0  2018-01-01T00:31:57Z  50.509220  10.683720            40              2779   \n",
       "1  2018-01-01T01:33:29Z  50.515171  10.561964            60              3627   \n",
       "2  2018-01-01T02:23:56Z  50.300076  10.925221           376              1976   \n",
       "3  2018-01-01T03:07:32Z  50.367345  11.210582            70              7040   \n",
       "4  2018-01-01T03:31:58Z  50.502782  10.592543           166             11178   \n",
       "\n",
       "   dt_to_poa  base      dist  \n",
       "0        417     1  0.066918  \n",
       "1       1062     1  0.188647  \n",
       "2        393     3  0.025221  \n",
       "3       1236     2  0.213099  \n",
       "4        837     1  0.157482  "
      ]
     },
     "metadata": {},
     "output_type": "display_data"
    },
    {
     "name": "stdout",
     "output_type": "stream",
     "text": [
      "t_alarm_sec         0\n",
      "lat                 0\n",
      "lng                 0\n",
      "dt_to_launch        0\n",
      "dt_to_completion    0\n",
      "dt_to_poa           0\n",
      "base                0\n",
      "dist                0\n",
      "dtype: int64\n",
      "0\n"
     ]
    }
   ],
   "source": [
    "# Aufgabe 1: Missings\n",
    "# a) Schau dir den Datensatz an\n",
    "print(\"Info:\")\n",
    "missions.info()\n",
    "# b) Zeige die ersten fünf Zeilen des Datensatzes an\n",
    "print(\"\\nErste 5 Zeilen:\")\n",
    "display(missions.head())\n",
    "# c) Überprüfe den Datensatz auf fehlende Werte\n",
    "print(missions.isnull().sum())\n",
    "\n",
    "# d) Anzahl der NA-Werte im Datensatz\n",
    "print(missions.isnull().sum().sum())"
   ]
  },
  {
   "cell_type": "code",
   "execution_count": null,
   "id": "6",
   "metadata": {},
   "outputs": [
    {
     "name": "stdout",
     "output_type": "stream",
     "text": [
      "Anzahl verschiedene Stützpunkte: 3\n",
      "Stützpunkte: [np.int64(1), np.int64(2), np.int64(3)]\n",
      "\n",
      "Häufigkeit pro Stützpunkt (inkl. NA):\n",
      "base\n",
      "1    10712\n",
      "2     5732\n",
      "3     2418\n",
      "Name: count, dtype: int64\n"
     ]
    },
    {
     "ename": "NameError",
     "evalue": "name 'lat' is not defined",
     "output_type": "error",
     "traceback": [
      "\u001b[31m---------------------------------------------------------------------------\u001b[39m",
      "\u001b[31mNameError\u001b[39m                                 Traceback (most recent call last)",
      "\u001b[36mCell\u001b[39m\u001b[36m \u001b[39m\u001b[32mIn[71]\u001b[39m\u001b[32m, line 11\u001b[39m\n\u001b[32m      9\u001b[39m \u001b[38;5;28mprint\u001b[39m(missions[\u001b[33m\"\u001b[39m\u001b[33mbase\u001b[39m\u001b[33m\"\u001b[39m].value_counts(dropna=\u001b[38;5;28;01mFalse\u001b[39;00m))\n\u001b[32m     10\u001b[39m \u001b[38;5;66;03m# b) Minimale und maximale Ausrückzeit\u001b[39;00m\n\u001b[32m---> \u001b[39m\u001b[32m11\u001b[39m s = missions[\u001b[43mlat\u001b[49m]\n\u001b[32m     14\u001b[39m \u001b[38;5;66;03m# c) Häufigkeit des Minimumwerts der Ausrückzeit\u001b[39;00m\n\u001b[32m     15\u001b[39m \n\u001b[32m     16\u001b[39m \u001b[38;5;66;03m# d) Mittlere und mediane Ausrückzeit\u001b[39;00m\n",
      "\u001b[31mNameError\u001b[39m: name 'lat' is not defined"
     ]
    }
   ],
   "source": [
    "# Aufgabe 2: Spalten zusammenfassen\n",
    "# a) Anzahl der verschiedenen Stützpunkte im Datensatz\n",
    "n_bases = missions[\"base\"].nunique(dropna=True) #dropna um nan nicht anzuzeigen\n",
    "unique_bases = sorted(missions[\"base\"].dropna().unique())\n",
    "\n",
    "print(f\"Anzahl verschiedene Stützpunkte: {n_bases}\")\n",
    "print(\"Stützpunkte:\", unique_bases)\n",
    "print(\"\\nHäufigkeit pro Stützpunkt (inkl. NA):\")\n",
    "print(missions[\"base\"].value_counts(dropna=False))\n",
    "# b) Minimale und maximale Ausrückzeit\n",
    "s = missions[\"dt_to_launch\"]\n",
    "s_clean = s.dropna()\n",
    "\n",
    "overall_min = s_clean.min()\n",
    "overall_max = s_clean.max()\n",
    "idx_min = s_clean.idxmin()\n",
    "idx_max = s_clean.idxmax()\n",
    "\n",
    "\n",
    "# c) Häufigkeit des Minimumwerts der Ausrückzeit\n",
    "\n",
    "# d) Mittlere und mediane Ausrückzeit"
   ]
  },
  {
   "cell_type": "code",
   "execution_count": null,
   "id": "7",
   "metadata": {},
   "outputs": [],
   "source": [
    "# Aufgabe 3: Gruppierte Zusammenfassungen I\n",
    "# a) Anzahl der Einsätze pro Stützpunkt\n",
    "\n",
    "# b) Mittlere Ausrückzeit und Median pro Stützpunkt"
   ]
  },
  {
   "cell_type": "code",
   "execution_count": null,
   "id": "8",
   "metadata": {},
   "outputs": [],
   "source": [
    "# Aufgabe 4: Gruppierte Zusammenfassungen II\n",
    "# Mittelwert der Distanz pro Stützpunkt mit der Funktion mean()"
   ]
  },
  {
   "cell_type": "code",
   "execution_count": null,
   "id": "9",
   "metadata": {},
   "outputs": [],
   "source": [
    "# Aufgabe 5: Gruppieren nach mehreren Variablen\n",
    "# a) Neue Spalten für Jahr, Monat und Tag erstellen\n",
    "\n",
    "# b) Anzahl der Einsätze pro Monat\n",
    "\n",
    "# c) Anzahl der Einsätze pro Tag\n",
    "\n",
    "# d) Einsätze pro Stützpunkt und Monat, geordnet nach Stützpunkt"
   ]
  },
  {
   "cell_type": "code",
   "execution_count": null,
   "id": "10",
   "metadata": {},
   "outputs": [],
   "source": [
    "# Aufgabe 6: Graphische Darstellung\n",
    "\n",
    "# a) Balkendiagramm für Einsätze pro Monat\n",
    "\n",
    "# b) Balkendiagramm für Einsätze pro Monat und Stützpunkt"
   ]
  },
  {
   "cell_type": "markdown",
   "id": "11",
   "metadata": {},
   "source": [
    "Aufgabe 7: Betrachte die Einsätze örtlich. Wo sind die Einsätze (relativ zueinander und zu den Basen)? Gibt es Orte mit hoher Einsatzdichte? Welche Einsätze werden ab welcher Base bedient?"
   ]
  },
  {
   "cell_type": "markdown",
   "id": "12",
   "metadata": {},
   "source": [
    "**Antwort**:"
   ]
  },
  {
   "cell_type": "code",
   "execution_count": null,
   "id": "13",
   "metadata": {},
   "outputs": [],
   "source": [
    "# Aufgabe 8: Gesamteinsatzdauer\n",
    "# a) Tag mit längster Gesamteinsatzdauer\n",
    "\n",
    "# b) Kürzeste Gesamteinsatzdauer"
   ]
  },
  {
   "cell_type": "code",
   "execution_count": null,
   "id": "14",
   "metadata": {},
   "outputs": [],
   "source": [
    "# Aufgabe 9: Auffällige Werte\n",
    "# a) Minimale und maximale Werte für die Zeitangaben\n",
    "\n",
    "# b) Histogramm für dt_to_completion"
   ]
  },
  {
   "cell_type": "code",
   "execution_count": null,
   "id": "15",
   "metadata": {},
   "outputs": [],
   "source": [
    "# Aufgabe 10: Gruppierte Zusammenfassungen III\n",
    "# a) Tag mit längster Gesamtfahrdistanz\n",
    "\n",
    "# b) Mittlere Fahrdistanz pro Stützpunkt und Tag\n",
    "\n",
    "# c) Boxplot für mittlere Distanzen pro Stützpunkt"
   ]
  }
 ],
 "metadata": {
  "kernelspec": {
   "display_name": "daana",
   "language": "python",
   "name": "python3"
  },
  "language_info": {
   "codemirror_mode": {
    "name": "ipython",
    "version": 3
   },
   "file_extension": ".py",
   "mimetype": "text/x-python",
   "name": "python",
   "nbconvert_exporter": "python",
   "pygments_lexer": "ipython3",
   "version": "3.12.11"
  }
 },
 "nbformat": 4,
 "nbformat_minor": 5
}

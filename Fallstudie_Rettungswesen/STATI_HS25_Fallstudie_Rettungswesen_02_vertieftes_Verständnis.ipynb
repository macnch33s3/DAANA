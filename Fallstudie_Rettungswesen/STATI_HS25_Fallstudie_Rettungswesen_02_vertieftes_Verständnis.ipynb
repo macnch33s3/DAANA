{
 "cells": [
  {
   "cell_type": "markdown",
   "id": "0",
   "metadata": {},
   "source": [
    "## **Optimierungspotenzial im Rettungswesen**"
   ]
  },
  {
   "cell_type": "code",
   "execution_count": null,
   "id": "1",
   "metadata": {},
   "outputs": [],
   "source": [
    "import pandas as pd\n",
    "import seaborn as sns\n",
    "\n",
    "pd.set_option('display.max_columns', 500)  # damit alle Spalten angezeigt werden"
   ]
  },
  {
   "cell_type": "markdown",
   "id": "2",
   "metadata": {},
   "source": [
    "**Datenfelder in missions.csv**\n",
    "- t_alarm_sec: Zeitpunkt der Alarmierung des Einsatzes\n",
    "- lat: Breitengrad des Einsatzes\n",
    "- lng: Längengrad des Einsatzes\n",
    "- dt_to_launch: Zeitintervall [sec] Alarmierung bis Ausrücken des Einsatzes [sec]\n",
    "- dt_to_poa: Zeitintervall [sec] Ausrücken bis Eintreffen Einsatzort des Einsatzes\n",
    "- dt_to_completion: Zeitintervall [sec] Eintreffen Einsatzort bis Ende Einsatz des Einsatzes\n",
    "- base: Stützpunkt-Nummer, ab dem der Einsatz bedient wurde\n",
    "- dist: Distanz zwischen Stützpunkt und Einsatzort [Luftlinie Koordinaten] \n",
    "\n",
    "**Datenfelder in bases.csv:**\n",
    "- nr: Stützpunkt-Nummer (1,2,3)\n",
    "- lat: Breitengrad des Stützpunktes\n",
    "- lng: Längengrad des Stützpunktes"
   ]
  },
  {
   "cell_type": "markdown",
   "id": "3",
   "metadata": {},
   "source": [
    "### **Vertieftes Verständnis der Daten**"
   ]
  },
  {
   "cell_type": "code",
   "execution_count": null,
   "id": "4",
   "metadata": {},
   "outputs": [],
   "source": [
    "missions = pd.read_csv('Fallstudie/Daten/missions.csv')"
   ]
  },
  {
   "cell_type": "code",
   "execution_count": null,
   "id": "5",
   "metadata": {},
   "outputs": [],
   "source": [
    "# Aufgabe 1: Missings\n",
    "# a) Schau dir den Datensatz an\n",
    "print(missions.info())\n",
    "\n",
    "# b) Zeige die ersten fünf Zeilen des Datensatzes an\n",
    "\n",
    "# c) Überprüfe den Datensatz auf fehlende Werte\n",
    "print(missions.isnull().sum())\n",
    "\n",
    "# d) Anzahl der NA-Werte im Datensatz\n",
    "print(missions.isnull().sum().sum())"
   ]
  },
  {
   "cell_type": "code",
   "execution_count": null,
   "id": "6",
   "metadata": {},
   "outputs": [],
   "source": [
    "# Aufgabe 2: Spalten zusammenfassen\n",
    "# a) Anzahl der verschiedenen Stützpunkte im Datensatz\n",
    "\n",
    "# b) Minimale und maximale Ausrückzeit\n",
    "\n",
    "# c) Häufigkeit des Minimumwerts der Ausrückzeit\n",
    "\n",
    "# d) Mittlere und mediane Ausrückzeit"
   ]
  },
  {
   "cell_type": "code",
   "execution_count": null,
   "id": "7",
   "metadata": {},
   "outputs": [],
   "source": [
    "# Aufgabe 3: Gruppierte Zusammenfassungen I\n",
    "# a) Anzahl der Einsätze pro Stützpunkt\n",
    "\n",
    "# b) Mittlere Ausrückzeit und Median pro Stützpunkt"
   ]
  },
  {
   "cell_type": "code",
   "execution_count": null,
   "id": "8",
   "metadata": {},
   "outputs": [],
   "source": [
    "# Aufgabe 4: Gruppierte Zusammenfassungen II\n",
    "# Mittelwert der Distanz pro Stützpunkt mit der Funktion mean()"
   ]
  },
  {
   "cell_type": "code",
   "execution_count": null,
   "id": "9",
   "metadata": {},
   "outputs": [],
   "source": [
    "# Aufgabe 5: Gruppieren nach mehreren Variablen\n",
    "# a) Neue Spalten für Jahr, Monat und Tag erstellen\n",
    "\n",
    "# b) Anzahl der Einsätze pro Monat\n",
    "\n",
    "# c) Anzahl der Einsätze pro Tag\n",
    "\n",
    "# d) Einsätze pro Stützpunkt und Monat, geordnet nach Stützpunkt"
   ]
  },
  {
   "cell_type": "code",
   "execution_count": null,
   "id": "10",
   "metadata": {},
   "outputs": [],
   "source": [
    "# Aufgabe 6: Graphische Darstellung\n",
    "\n",
    "# a) Balkendiagramm für Einsätze pro Monat\n",
    "\n",
    "# b) Balkendiagramm für Einsätze pro Monat und Stützpunkt"
   ]
  },
  {
   "cell_type": "markdown",
   "id": "11",
   "metadata": {},
   "source": [
    "Aufgabe 7: Betrachte die Einsätze örtlich. Wo sind die Einsätze (relativ zueinander und zu den Basen)? Gibt es Orte mit hoher Einsatzdichte? Welche Einsätze werden ab welcher Base bedient?"
   ]
  },
  {
   "cell_type": "markdown",
   "id": "12",
   "metadata": {},
   "source": [
    "**Antwort**:"
   ]
  },
  {
   "cell_type": "code",
   "execution_count": null,
   "id": "13",
   "metadata": {},
   "outputs": [],
   "source": [
    "# Aufgabe 8: Gesamteinsatzdauer\n",
    "# a) Tag mit längster Gesamteinsatzdauer\n",
    "\n",
    "# b) Kürzeste Gesamteinsatzdauer"
   ]
  },
  {
   "cell_type": "code",
   "execution_count": null,
   "id": "14",
   "metadata": {},
   "outputs": [],
   "source": [
    "# Aufgabe 9: Auffällige Werte\n",
    "# a) Minimale und maximale Werte für die Zeitangaben\n",
    "\n",
    "# b) Histogramm für dt_to_completion"
   ]
  },
  {
   "cell_type": "code",
   "execution_count": null,
   "id": "15",
   "metadata": {},
   "outputs": [],
   "source": [
    "# Aufgabe 10: Gruppierte Zusammenfassungen III\n",
    "# a) Tag mit längster Gesamtfahrdistanz\n",
    "\n",
    "# b) Mittlere Fahrdistanz pro Stützpunkt und Tag\n",
    "\n",
    "# c) Boxplot für mittlere Distanzen pro Stützpunkt"
   ]
  }
 ],
 "metadata": {
  "kernelspec": {
   "display_name": "wing-statistik",
   "language": "python",
   "name": "python3"
  },
  "language_info": {
   "codemirror_mode": {
    "name": "ipython",
    "version": 3
   },
   "file_extension": ".py",
   "mimetype": "text/x-python",
   "name": "python",
   "nbconvert_exporter": "python",
   "pygments_lexer": "ipython3",
   "version": "3.12.11"
  }
 },
 "nbformat": 4,
 "nbformat_minor": 5
}

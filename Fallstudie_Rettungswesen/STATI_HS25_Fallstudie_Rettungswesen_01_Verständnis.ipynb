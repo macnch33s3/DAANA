{
 "cells": [
  {
   "cell_type": "markdown",
   "id": "73bf4d04",
   "metadata": {},
   "source": [
    "## **Optimierungspotenzial im Rettungswesen**"
   ]
  },
  {
   "cell_type": "markdown",
   "id": "a21f8047",
   "metadata": {},
   "source": [
    "*Praxisbeispiel, zur Bearbeitung in 2er Teams*\n",
    "\n",
    "Sie arbeiten bei der Data2Decisions GmbH, einer kleinen Firma, welche für verschiedene Kunden\n",
    "Datenanalysen durchführt, welche als Entscheidungsgrundlagen für strategische Managemententscheide\n",
    "genutzt werden.\n",
    "\n",
    "Von der Leiterin der Rettung SG bekommen Sie die folgende Problemstellung gestellt:\n",
    "- Die Rettung SG hat eine zu tiefe Hilfsfristerreichung.\n",
    "- Die Leiterin hat scheinbar alle Massnahmen, welche sie im operativen Geschäft durchführen kann\n",
    "getroffen, die Hilfsfristen sind jedoch immer noch zu tief.\n",
    "- Sie hofft aber, dass es auf strategischer Ebene noch Möglichkeiten gibt, die Rettung SG besser\n",
    "aufzustellen, um schneller bei den Einsätzen zu sein.\n",
    "- Ihnen stehen Daten aller Einsätze der Rettung SG des Jahres 2022 zur Verfügung. Darin sind die\n",
    "Ausrückzeiten, die Anfahrten an die Einsatzorte und viele weitere Variablen enthalten.\n",
    "\n",
    "Ihre Aufgabe ist es nun, die Daten zu sichten und explorativ zu erkunden, Hypothesen für mögliche\n",
    "Handlungsoptionen zu entwickeln, diese Handlungsoptionen auf Basis der Datenbasis zu evaluieren und Ihre\n",
    "Empfehlung(en) auszuarbeiten und soweit aufzuarbeiten, dass sie sie dem Regierungsrat des Kantons SG\n",
    "(welcher wenig von Datenanalysen versteht und eher ungeduldig ist…) innerhalb weniger Minuten\n",
    "präsentieren können."
   ]
  },
  {
   "cell_type": "code",
   "execution_count": 4,
   "id": "56fd42a5",
   "metadata": {},
   "outputs": [],
   "source": [
    "import pandas as pd\n",
    "import seaborn as sns\n",
    "\n",
    "pd.set_option('display.max_columns', 500)  # damit alle Spalten angezeigt werden"
   ]
  },
  {
   "cell_type": "markdown",
   "id": "84f6622f",
   "metadata": {},
   "source": [
    "**Aufträge**:\n",
    "Für die Bearbeitung und Erarbeitung der Resultate haben sie 8 Lektionen (2 Unterrichtsblöcke) Zeit. Die Aufträge a) – c) werden nach der ersten Lektion gemeinsam besprochen. Zur Hälfte der nächsten Veranstaltung werden alle 2er Teams ihre Vorschläge dem Regierungsrat präsentieren und wir werden die Vorschläge gemeinsam diskutieren und reflektieren."
   ]
  },
  {
   "cell_type": "markdown",
   "id": "5ff0f95b",
   "metadata": {},
   "source": [
    "## **Aufträge zum Verständnis der Domäne**"
   ]
  },
  {
   "cell_type": "markdown",
   "id": "acc9808d",
   "metadata": {},
   "source": [
    "a) (ca. 10min) Recherchieren Sie die Begriffe «Hilfsfrist» und «Hilfsfristerreichung».\n",
    "- Was bedeuten diese Begriffe?\n",
    "- Wie stehen diese im Zusammenhang mit der Performance von Rettungsdiensten?\n",
    "- Wie stehen diese Begriffe im Zusammenhang mit den gelieferten Daten?"
   ]
  },
  {
   "cell_type": "markdown",
   "id": "bea0ed00",
   "metadata": {},
   "source": [
    "**Antwort**: ..."
   ]
  },
  {
   "cell_type": "markdown",
   "id": "84409a75",
   "metadata": {},
   "source": [
    "b) (ca. 10min) Schauen Sie das SRF-Video: [\"Sanität wegen Fachkräftemangel am Anschlag 00:00 –\n",
    "05:04\"1](https://www.srf.ch/play/tv/schweiz-aktuell/video/sanitaet-wegen-fachkraeftemangel-am-anschlag?urn=urn:srf:video:177c29ee-b3d6-4b8a-aa62-67a3cd854efe). Was bedeutet für Sie eine gute rettungsdienstliche Versorgung in der Schweiz und wie würden Sie versuchen, diese sicherzustellen?"
   ]
  },
  {
   "cell_type": "markdown",
   "id": "a3e27195",
   "metadata": {},
   "source": [
    "**Antwort**: ..."
   ]
  },
  {
   "cell_type": "markdown",
   "id": "b4fab04e",
   "metadata": {},
   "source": [
    "## **Aufträge zum Verständnis der Rohdaten**"
   ]
  },
  {
   "cell_type": "markdown",
   "id": "efbaf763",
   "metadata": {},
   "source": [
    "c) (ca. 10min) Betrachten Sie die gelieferten Rohdaten (missions.csv und bases.csv) und stellen Sie\n",
    "sicher, dass Sie sämtliche Felder der Rohdaten verstehen und korrekt interpretieren können.\n",
    "\n",
    "**Datenfelder in missions.csv**\n",
    "- t_alarm_sec: Zeitpunkt der Alarmierung des Einsatzes\n",
    "- lat: Breitengrad des Einsatzes\n",
    "- lng: Längengrad des Einsatzes\n",
    "- dt_to_launch: Zeitintervall [sec] Alarmierung bis Ausrücken des Einsatzes [sec]\n",
    "- dt_to_poa: Zeitintervall [sec] Ausrücken bis Eintreffen Einsatzort des Einsatzes\n",
    "- dt_to_completion: Zeitintervall [sec] Eintreffen Einsatzort bis Ende Einsatz des Einsatzes\n",
    "- base: Stützpunkt-Nummer, ab dem der Einsatz bedient wurde\n",
    "- dist: Distanz zwischen Stützpunkt und Einsatzort [Luftlinie Koordinaten] \n",
    "\n",
    "**Datenfelder in bases.csv:**\n",
    "- nr: Stützpunkt-Nummer (1,2,3)\n",
    "- lat: Breitengrad des Stützpunktes\n",
    "- lng: Längengrad des Stützpunktes"
   ]
  },
  {
   "cell_type": "markdown",
   "id": "71e202f4",
   "metadata": {},
   "source": [
    "### **Grobes Verständnis der Daten**"
   ]
  },
  {
   "cell_type": "code",
   "execution_count": 5,
   "id": "a955b457",
   "metadata": {},
   "outputs": [
    {
     "data": {
      "application/vnd.microsoft.datawrangler.viewer.v0+json": {
       "columns": [
        {
         "name": "index",
         "rawType": "int64",
         "type": "integer"
        },
        {
         "name": "t_alarm_sec",
         "rawType": "object",
         "type": "string"
        },
        {
         "name": "lat",
         "rawType": "float64",
         "type": "float"
        },
        {
         "name": "lng",
         "rawType": "float64",
         "type": "float"
        },
        {
         "name": "dt_to_launch",
         "rawType": "int64",
         "type": "integer"
        },
        {
         "name": "dt_to_completion",
         "rawType": "int64",
         "type": "integer"
        },
        {
         "name": "dt_to_poa",
         "rawType": "int64",
         "type": "integer"
        },
        {
         "name": "base",
         "rawType": "int64",
         "type": "integer"
        },
        {
         "name": "dist",
         "rawType": "float64",
         "type": "float"
        }
       ],
       "ref": "a243c0e2-dbe6-48f5-be0d-e6efade52c4e",
       "rows": [
        [
         "0",
         "2018-01-01T00:31:57Z",
         "50.50922",
         "10.68372",
         "40",
         "2779",
         "417",
         "1",
         "0.0669182097788027"
        ],
        [
         "1",
         "2018-01-01T01:33:29Z",
         "50.515171",
         "10.561964",
         "60",
         "3627",
         "1062",
         "1",
         "0.188647015711885"
        ],
        [
         "2",
         "2018-01-01T02:23:56Z",
         "50.300076",
         "10.925221",
         "376",
         "1976",
         "393",
         "3",
         "0.0252211145074916"
        ],
        [
         "3",
         "2018-01-01T03:07:32Z",
         "50.367345",
         "11.210582",
         "70",
         "7040",
         "1236",
         "2",
         "0.2130988684836221"
        ],
        [
         "4",
         "2018-01-01T03:31:58Z",
         "50.502782",
         "10.592543",
         "166",
         "11178",
         "837",
         "1",
         "0.1574815747095522"
        ]
       ],
       "shape": {
        "columns": 8,
        "rows": 5
       }
      },
      "text/html": [
       "<div>\n",
       "<style scoped>\n",
       "    .dataframe tbody tr th:only-of-type {\n",
       "        vertical-align: middle;\n",
       "    }\n",
       "\n",
       "    .dataframe tbody tr th {\n",
       "        vertical-align: top;\n",
       "    }\n",
       "\n",
       "    .dataframe thead th {\n",
       "        text-align: right;\n",
       "    }\n",
       "</style>\n",
       "<table border=\"1\" class=\"dataframe\">\n",
       "  <thead>\n",
       "    <tr style=\"text-align: right;\">\n",
       "      <th></th>\n",
       "      <th>t_alarm_sec</th>\n",
       "      <th>lat</th>\n",
       "      <th>lng</th>\n",
       "      <th>dt_to_launch</th>\n",
       "      <th>dt_to_completion</th>\n",
       "      <th>dt_to_poa</th>\n",
       "      <th>base</th>\n",
       "      <th>dist</th>\n",
       "    </tr>\n",
       "  </thead>\n",
       "  <tbody>\n",
       "    <tr>\n",
       "      <th>0</th>\n",
       "      <td>2018-01-01T00:31:57Z</td>\n",
       "      <td>50.509220</td>\n",
       "      <td>10.683720</td>\n",
       "      <td>40</td>\n",
       "      <td>2779</td>\n",
       "      <td>417</td>\n",
       "      <td>1</td>\n",
       "      <td>0.066918</td>\n",
       "    </tr>\n",
       "    <tr>\n",
       "      <th>1</th>\n",
       "      <td>2018-01-01T01:33:29Z</td>\n",
       "      <td>50.515171</td>\n",
       "      <td>10.561964</td>\n",
       "      <td>60</td>\n",
       "      <td>3627</td>\n",
       "      <td>1062</td>\n",
       "      <td>1</td>\n",
       "      <td>0.188647</td>\n",
       "    </tr>\n",
       "    <tr>\n",
       "      <th>2</th>\n",
       "      <td>2018-01-01T02:23:56Z</td>\n",
       "      <td>50.300076</td>\n",
       "      <td>10.925221</td>\n",
       "      <td>376</td>\n",
       "      <td>1976</td>\n",
       "      <td>393</td>\n",
       "      <td>3</td>\n",
       "      <td>0.025221</td>\n",
       "    </tr>\n",
       "    <tr>\n",
       "      <th>3</th>\n",
       "      <td>2018-01-01T03:07:32Z</td>\n",
       "      <td>50.367345</td>\n",
       "      <td>11.210582</td>\n",
       "      <td>70</td>\n",
       "      <td>7040</td>\n",
       "      <td>1236</td>\n",
       "      <td>2</td>\n",
       "      <td>0.213099</td>\n",
       "    </tr>\n",
       "    <tr>\n",
       "      <th>4</th>\n",
       "      <td>2018-01-01T03:31:58Z</td>\n",
       "      <td>50.502782</td>\n",
       "      <td>10.592543</td>\n",
       "      <td>166</td>\n",
       "      <td>11178</td>\n",
       "      <td>837</td>\n",
       "      <td>1</td>\n",
       "      <td>0.157482</td>\n",
       "    </tr>\n",
       "  </tbody>\n",
       "</table>\n",
       "</div>"
      ],
      "text/plain": [
       "            t_alarm_sec        lat        lng  dt_to_launch  dt_to_completion  \\\n",
       "0  2018-01-01T00:31:57Z  50.509220  10.683720            40              2779   \n",
       "1  2018-01-01T01:33:29Z  50.515171  10.561964            60              3627   \n",
       "2  2018-01-01T02:23:56Z  50.300076  10.925221           376              1976   \n",
       "3  2018-01-01T03:07:32Z  50.367345  11.210582            70              7040   \n",
       "4  2018-01-01T03:31:58Z  50.502782  10.592543           166             11178   \n",
       "\n",
       "   dt_to_poa  base      dist  \n",
       "0        417     1  0.066918  \n",
       "1       1062     1  0.188647  \n",
       "2        393     3  0.025221  \n",
       "3       1236     2  0.213099  \n",
       "4        837     1  0.157482  "
      ]
     },
     "metadata": {},
     "output_type": "display_data"
    }
   ],
   "source": [
    "missions = pd.read_csv('C:\\\\Users\\\\marck\\\\Documents\\\\_OST\\\\DAANA\\\\DAANA\\\\Fallstudie_Rettungswesen\\\\missions.csv')\n",
    "display(missions.head())"
   ]
  },
  {
   "cell_type": "code",
   "execution_count": 14,
   "id": "efa8c3a3",
   "metadata": {},
   "outputs": [
    {
     "name": "stdout",
     "output_type": "stream",
     "text": [
      "50.432811592248974\n",
      "50.444388000000004\n",
      "50.229636\n",
      "50.566215\n",
      "10.811755747481708\n",
      "10.771543999999999\n",
      "10.326075\n",
      "11.225822\n"
     ]
    }
   ],
   "source": [
    "# Aufgabe 1: Lage, Minima und Maxima für 'lat'\n",
    "lat = missions[\"lat\"]\n",
    "\n",
    "lat_mean = lat.mean()\n",
    "lat_median = lat.median()\n",
    "lat_min = lat.min()\n",
    "lat_max = lat.max()\n",
    "\n",
    "idx_min = lat.idxmin()\n",
    "idx_max = lat.idxmax()\n",
    "\n",
    "print(lat_mean)\n",
    "print(lat_median)\n",
    "print(lat_min)\n",
    "print(lat_max)\n",
    "\n",
    "# print(missions.loc[idx_min])\n",
    "# print(missions.loc[idx_max])\n",
    "\n",
    "#max = missions.loc[missions[\"lat\"].idxmin()]\n",
    "#pint(max)\n",
    "\n",
    "# Aufgabe 2: Lage, Minima und Maxima für 'lng'\n",
    "lng = missions[\"lng\"]\n",
    "\n",
    "lng_mean = lng.mean()\n",
    "lng_median = lng.median()\n",
    "lng_min = lng.min()\n",
    "lng_max = lng.max()\n",
    "\n",
    "idx_min = lng.idxmin()\n",
    "idx_max = lng.idxmax()\n",
    "\n",
    "print(lng_mean)\n",
    "print(lng_median)\n",
    "print(lng_min)\n",
    "print(lng_max)"
   ]
  },
  {
   "cell_type": "code",
   "execution_count": null,
   "id": "54bb1340",
   "metadata": {},
   "outputs": [
    {
     "name": "stdout",
     "output_type": "stream",
     "text": [
      "<bound method Series.mean of 0         40\n",
      "1         60\n",
      "2        376\n",
      "3         70\n",
      "4        166\n",
      "        ... \n",
      "18857     94\n",
      "18858     93\n",
      "18859     39\n",
      "18860     75\n",
      "18861    138\n",
      "Name: dt_to_launch, Length: 18862, dtype: int64>\n",
      "<bound method Series.median of 0         40\n",
      "1         60\n",
      "2        376\n",
      "3         70\n",
      "4        166\n",
      "        ... \n",
      "18857     94\n",
      "18858     93\n",
      "18859     39\n",
      "18860     75\n",
      "18861    138\n",
      "Name: dt_to_launch, Length: 18862, dtype: int64>\n",
      "<bound method Series.min of 0         40\n",
      "1         60\n",
      "2        376\n",
      "3         70\n",
      "4        166\n",
      "        ... \n",
      "18857     94\n",
      "18858     93\n",
      "18859     39\n",
      "18860     75\n",
      "18861    138\n",
      "Name: dt_to_launch, Length: 18862, dtype: int64>\n",
      "<bound method Series.max of 0         40\n",
      "1         60\n",
      "2        376\n",
      "3         70\n",
      "4        166\n",
      "        ... \n",
      "18857     94\n",
      "18858     93\n",
      "18859     39\n",
      "18860     75\n",
      "18861    138\n",
      "Name: dt_to_launch, Length: 18862, dtype: int64>\n",
      "<bound method Series.mean of 0         2779\n",
      "1         3627\n",
      "2         1976\n",
      "3         7040\n",
      "4        11178\n",
      "         ...  \n",
      "18857     2412\n",
      "18858     2996\n",
      "18859     6087\n",
      "18860     4320\n",
      "18861     3596\n",
      "Name: dt_to_completion, Length: 18862, dtype: int64>\n",
      "<bound method Series.median of 0         2779\n",
      "1         3627\n",
      "2         1976\n",
      "3         7040\n",
      "4        11178\n",
      "         ...  \n",
      "18857     2412\n",
      "18858     2996\n",
      "18859     6087\n",
      "18860     4320\n",
      "18861     3596\n",
      "Name: dt_to_completion, Length: 18862, dtype: int64>\n",
      "<bound method Series.min of 0         2779\n",
      "1         3627\n",
      "2         1976\n",
      "3         7040\n",
      "4        11178\n",
      "         ...  \n",
      "18857     2412\n",
      "18858     2996\n",
      "18859     6087\n",
      "18860     4320\n",
      "18861     3596\n",
      "Name: dt_to_completion, Length: 18862, dtype: int64>\n",
      "<bound method Series.max of 0         2779\n",
      "1         3627\n",
      "2         1976\n",
      "3         7040\n",
      "4        11178\n",
      "         ...  \n",
      "18857     2412\n",
      "18858     2996\n",
      "18859     6087\n",
      "18860     4320\n",
      "18861     3596\n",
      "Name: dt_to_completion, Length: 18862, dtype: int64>\n",
      "<bound method Series.mean of 0         417\n",
      "1        1062\n",
      "2         393\n",
      "3        1236\n",
      "4         837\n",
      "         ... \n",
      "18857    1349\n",
      "18858    1256\n",
      "18859    2145\n",
      "18860     458\n",
      "18861    1092\n",
      "Name: dt_to_poa, Length: 18862, dtype: int64>\n",
      "<bound method Series.median of 0         417\n",
      "1        1062\n",
      "2         393\n",
      "3        1236\n",
      "4         837\n",
      "         ... \n",
      "18857    1349\n",
      "18858    1256\n",
      "18859    2145\n",
      "18860     458\n",
      "18861    1092\n",
      "Name: dt_to_poa, Length: 18862, dtype: int64>\n",
      "<bound method Series.min of 0         417\n",
      "1        1062\n",
      "2         393\n",
      "3        1236\n",
      "4         837\n",
      "         ... \n",
      "18857    1349\n",
      "18858    1256\n",
      "18859    2145\n",
      "18860     458\n",
      "18861    1092\n",
      "Name: dt_to_poa, Length: 18862, dtype: int64>\n",
      "<bound method Series.max of 0         417\n",
      "1        1062\n",
      "2         393\n",
      "3        1236\n",
      "4         837\n",
      "         ... \n",
      "18857    1349\n",
      "18858    1256\n",
      "18859    2145\n",
      "18860     458\n",
      "18861    1092\n",
      "Name: dt_to_poa, Length: 18862, dtype: int64>\n"
     ]
    }
   ],
   "source": [
    "# Aufgabe 3: Lage, Streuung, Minima und Maxima für 'dt_to_launch'\n",
    "dt_to_launch = missions[\"dt_to_launch\"]\n",
    "\n",
    "dt_to_launch.mean()\n",
    "dt_to_launch.median()\n",
    "dt_to_launch.min()\n",
    "dt_to_launch.max()\n",
    "\n",
    "idx_min = dt_to_launch.idxmin()\n",
    "idx_max = dt_to_launch.idxmax()\n",
    "\n",
    "print(dt_to_launch.mean)\n",
    "print(dt_to_launch.median)\n",
    "print(dt_to_launch.min)\n",
    "print(dt_to_launch.max)\n",
    "\n",
    "# Aufgabe 4: Lage, Streuung, Minima und Maxima für 'dt_to_completion'\n",
    "\n",
    "dc = missions[\"dt_to_completion\"]\n",
    "\n",
    "dc.mean()\n",
    "dc.median()\n",
    "dc.min()\n",
    "dc.max()\n",
    "\n",
    "idx_min =dc.idxmin()\n",
    "idx_max =dc.idxmax()\n",
    "\n",
    "print(dc.mean)\n",
    "print(dc.median)\n",
    "print(dc.min)\n",
    "print(dc.max)\n",
    "\n",
    "\n",
    "# Aufgabe 5: Lage, Streuung, Minima und Maxima für 'dt_to_poa'\n",
    "\n",
    "dp = missions[\"dt_to_poa\"]\n",
    "\n",
    "dp.mean()\n",
    "dp.median()\n",
    "dp.min()\n",
    "dp.max()\n",
    "\n",
    "idx_min = dp.idxmin()\n",
    "idx_max = dp.idxmax()\n",
    "\n",
    "print(dp.mean)\n",
    "print(dp.median)\n",
    "print(dp.min)\n",
    "print(dp.max)\n",
    "\n",
    "# Aufgabe 6: Lage, Streuung, Minima und Maxima für 'dist'\n",
    "\n",
    "dist = missions[\"dist\"]\n",
    "\n",
    "dist.mean()\n",
    "dist.median()\n",
    "dist.min()\n",
    "dist.max()\n",
    "\n",
    "idx_min = dist.idxmin()\n",
    "idx_max = dist.idxmax()\n",
    "\n",
    "print(dist.mean)\n",
    "print(dist.median)\n",
    "print(dist.min)\n",
    "print(dist.max)"
   ]
  },
  {
   "cell_type": "markdown",
   "id": "cd1e9993",
   "metadata": {},
   "source": [
    "Aufgabe 7: Interpretiert die Resultate der ersten 6 Aufgaben.\n",
    "Was fällt auf? Sind die Werte plausibel? Könnte es falsch erhobenene Werte haben?"
   ]
  },
  {
   "cell_type": "markdown",
   "id": "41677964",
   "metadata": {},
   "source": [
    "**Antwort**: "
   ]
  },
  {
   "cell_type": "code",
   "execution_count": null,
   "id": "d61d35c8",
   "metadata": {},
   "outputs": [],
   "source": [
    "# Aufgabe 8: Boxpots für 'dt_to_launch', 'dt_to_completion' und 'dt_to_poa' im gesamten Datensatz"
   ]
  },
  {
   "cell_type": "code",
   "execution_count": null,
   "id": "f220dd2a",
   "metadata": {},
   "outputs": [],
   "source": [
    "# Aufgabe 9: Histogramme für 'dt_to_launch', 'dt_to_completion' und 'dt_to_poa' im gesamten Datensatz"
   ]
  },
  {
   "cell_type": "code",
   "execution_count": null,
   "id": "f67c95ce",
   "metadata": {},
   "outputs": [],
   "source": [
    "# Aufgabe 10: Boxplots für 'dt_to_launch', 'dt_to_completion' und 'dt_to_poa' gruppiert nach 'base'"
   ]
  },
  {
   "cell_type": "markdown",
   "id": "772713f3",
   "metadata": {},
   "source": [
    "Aufgabe 11: Interpretiert die Resultate von Aufgaben 8 - 10. Was fällt auf? Wo lohnt es sich die Grafiken zu verfeinern? Was \"sieht\" man? Was \"sieht\" man (noch) nicht?"
   ]
  },
  {
   "cell_type": "markdown",
   "id": "83728ad8",
   "metadata": {},
   "source": [
    "**Antwort**: (beschreibt kurz die Feststellungen, auch die, die dazu geführt haben, dass ihr etwas an den Grafiken geändert habt)"
   ]
  }
 ],
 "metadata": {
  "kernelspec": {
   "display_name": "daana",
   "language": "python",
   "name": "python3"
  },
  "language_info": {
   "codemirror_mode": {
    "name": "ipython",
    "version": 3
   },
   "file_extension": ".py",
   "mimetype": "text/x-python",
   "name": "python",
   "nbconvert_exporter": "python",
   "pygments_lexer": "ipython3",
   "version": "3.12.11"
  }
 },
 "nbformat": 4,
 "nbformat_minor": 5
}
